{
 "cells": [
  {
   "cell_type": "markdown",
   "source": [
    "# Introduction"
   ],
   "metadata": {
    "collapsed": false,
    "pycharm": {
     "name": "#%% md\n"
    }
   }
  },
  {
   "cell_type": "markdown",
   "source": [
    "## Problem Statement"
   ],
   "metadata": {
    "collapsed": false,
    "pycharm": {
     "name": "#%% md\n"
    }
   }
  },
  {
   "cell_type": "markdown",
   "source": [
    "## Requirements\n",
    "\n",
    "- [ ] Extract data directly from the URL\n",
    "- [ ] Given a CSV file, process data\n",
    "- [ ] Load data to another folder\n",
    "- [ ] Send data to PowerBI\n",
    "- [ ] Write a single pipeline which extracts data from URL and upload metrics on the dashboard\n",
    "\n",
    "### Data Processing\n",
    "\n",
    "- [X] Handle null values\n",
    "- [X] Handle correcting data types\n",
    "- [ ] Do basic calculations\n",
    "- [ ] Make predictions about the future"
   ],
   "metadata": {
    "collapsed": false,
    "pycharm": {
     "name": "#%% md\n"
    }
   }
  },
  {
   "cell_type": "markdown",
   "metadata": {
    "pycharm": {
     "name": "#%% md\n"
    }
   },
   "source": [
    "# Importing Libraries and Packages"
   ]
  },
  {
   "cell_type": "code",
   "execution_count": 1,
   "metadata": {
    "pycharm": {
     "name": "#%%\n"
    }
   },
   "outputs": [
    {
     "name": "stdout",
     "output_type": "stream",
     "text": [
      "9\n"
     ]
    }
   ],
   "source": [
    "print(9)"
   ]
  },
  {
   "cell_type": "code",
   "execution_count": 178,
   "metadata": {
    "pycharm": {
     "name": "#%%\n"
    }
   },
   "outputs": [],
   "source": [
    "import requests\n",
    "import pyspark\n",
    "from pyspark.sql import SparkSession\n",
    "from pyspark.sql.functions import col,isnan,when,count\n",
    "import pyspark.sql.functions as F\n",
    "\n",
    "import pandas as pd"
   ]
  },
  {
   "cell_type": "code",
   "execution_count": 3,
   "metadata": {
    "pycharm": {
     "name": "#%%\n"
    }
   },
   "outputs": [],
   "source": [
    "# Downloading Data"
   ]
  },
  {
   "cell_type": "code",
   "execution_count": 214,
   "metadata": {
    "pycharm": {
     "name": "#%%\n"
    }
   },
   "outputs": [],
   "source": [
    "# Cannot download data directly without Microsoft Office Authentication.\n",
    "# Hence, downloading data manually. However, Microsoft provides an API through\n",
    "# which we can download data (potentially creating data pipeline).\n",
    "\n",
    "SHAREPOINT_URL = \"https://kaios-my.sharepoint.com/personal/data_bi_kaiostech_com/_layouts/15/onedrive.aspx?originalPath=aHR0cHM6Ly9rYWlvcy1teS5zaGFyZXBvaW50LmNvbS86ZjovZy9wZXJzb25hbC9kYXRhX2JpX2thaW9zdGVjaF9jb20vRXFhb01maGJRR0JFaFZUT3Zwby10MzRCbXBwZmhvdWh4VEsxTFhHWEhnZks5dz9ydGltZT1tQnhDVXhDWjJVZw&id=%2Fpersonal%2Fdata%5Fbi%5Fkaiostech%5Fcom%2FDocuments%2FTest%5Fassignment%5F%2D%5FData%5FAnalyst%5F%2D%5FActive%5FUsers\"\n",
    "\n",
    "URL_ADS_STREAM = \"https://kaios-my.sharepoint.com/:x:/r/personal/data_bi_kaiostech_com/_layouts/15/Doc.aspx?sourcedoc=%7BEFE4241F-18C1-4CA3-BA15-CE29A0C36685%7D&file=ads_stream.csv&action=default&mobileredirect=true\"\n",
    "\n",
    "URL_STORE_STREAM = \"https://kaios-my.sharepoint.com/:x:/r/personal/data_bi_kaiostech_com/_layouts/15/Doc.aspx?sourcedoc=%7B5F399790-6C00-4F01-B978-A28843F8F413%7D&file=store_stream.csv&action=default&mobileredirect=true\""
   ]
  },
  {
   "cell_type": "code",
   "execution_count": 215,
   "metadata": {
    "pycharm": {
     "name": "#%%\n"
    }
   },
   "outputs": [],
   "source": [
    "def download_file(url, filepath):\n",
    "    req = requests.get(url)\n",
    "    url_content = req.content\n",
    "    with open(filepath, 'wb') as f:\n",
    "        f.write(url_content)\n",
    "\n",
    "ADS_STREAM_FILEPATH = \"./data/ads_stream.csv\"\n",
    "STORE_STREAM_FILEPATH = \"./data/store_stream.csv\"\n",
    "# download_file(URL_ADS_STREAM, ADS_STREAM_FILEPATH)\n",
    "# download_file(URL_STORE_STREAM, STORE_STREAM_FILEPATH)"
   ]
  },
  {
   "cell_type": "code",
   "execution_count": 6,
   "metadata": {
    "pycharm": {
     "name": "#%%\n"
    }
   },
   "outputs": [],
   "source": [
    "# Load Data"
   ]
  },
  {
   "cell_type": "code",
   "execution_count": 216,
   "metadata": {
    "pycharm": {
     "name": "#%%\n"
    }
   },
   "outputs": [
    {
     "data": {
      "text/plain": "<pyspark.sql.session.SparkSession at 0x118a07250>",
      "text/html": "\n            <div>\n                <p><b>SparkSession - in-memory</b></p>\n                \n        <div>\n            <p><b>SparkContext</b></p>\n\n            <p><a href=\"http://192.168.1.32:4040\">Spark UI</a></p>\n\n            <dl>\n              <dt>Version</dt>\n                <dd><code>v3.2.0</code></dd>\n              <dt>Master</dt>\n                <dd><code>local[*]</code></dd>\n              <dt>AppName</dt>\n                <dd><code>KPI Dashboard</code></dd>\n            </dl>\n        </div>\n        \n            </div>\n        "
     },
     "execution_count": 216,
     "metadata": {},
     "output_type": "execute_result"
    }
   ],
   "source": [
    "# Create pyspark session\n",
    "spark = SparkSession.builder.appName('KPI Dashboard').getOrCreate()\n",
    "spark"
   ]
  },
  {
   "cell_type": "code",
   "execution_count": 231,
   "metadata": {
    "pycharm": {
     "name": "#%%\n"
    }
   },
   "outputs": [],
   "source": [
    "df = spark.read.csv(ADS_STREAM_FILEPATH, header=True, inferSchema=True)"
   ]
  },
  {
   "cell_type": "code",
   "execution_count": 218,
   "outputs": [
    {
     "name": "stdout",
     "output_type": "stream",
     "text": [
      "+--------------------+--------------+--------------------+----------+-------------+-------+\n",
      "|           device_id|   server_time|               ad_id|event_type|      country|  brand|\n",
      "+--------------------+--------------+--------------------+----------+-------------+-------+\n",
      "|c8d146ad02124a3e8...|  2/19/18 2:05|                null|      logs|      Nigeria|Brand E|\n",
      "|7a8ff5a545534e109...| 6/26/18 10:06|c67ef34fb59e47df9...|      load|      Nigeria|Brand D|\n",
      "|4dc957af76404c54b...|12/21/18 21:12|                null|      logs|        India|Brand D|\n",
      "|bb97056dfb3e449ab...| 1/31/18 10:58|                null|      logs|        India|Brand D|\n",
      "|995f6a50742644f7b...| 5/29/18 21:02|                null|      logs|      Nigeria|Brand A|\n",
      "|c4c91e7021da40bea...|12/23/18 15:02|e5ae45c4c0ae4ab09...|     close|        India|Brand E|\n",
      "|8e425095de124f709...| 6/30/18 15:31|e5ae45c4c0ae4ab09...|      load|        India|Brand C|\n",
      "|cc3bfc7f3ca24f04b...|10/15/18 19:09|                null|      logs|      Nigeria|Brand A|\n",
      "|6c4375bd360f4a2e8...|11/18/18 21:26|474658ce06464bd79...|     close|      Nigeria|Brand A|\n",
      "|c5064f0a2b1348718...|11/26/18 10:05|7dc9b4b971f14f04a...|      load|United States|Brand E|\n",
      "|db602f18fe0941188...|  12/9/18 3:06|3062fc4f99f34a858...|     close|      Nigeria|Brand A|\n",
      "|7b922945b7e34175b...|12/24/18 12:11|dd8883b802904fa78...|      load|        India|Brand B|\n",
      "|b5c54d0637a747b6a...|  8/13/18 3:40|cf8f7b43101e44e48...|   display|United States|Brand A|\n",
      "|900427ca8c2f4f748...| 10/1/18 19:08|cce80262138347c99...|      load|United States|Brand B|\n",
      "|d44203a9736f4fb89...|  8/24/18 0:06|966a90afd710420b8...|   display|        India|Brand E|\n",
      "|ff1c338828ae47838...|  9/8/18 15:11|7204057bd73848f09...|      load|        China|Brand D|\n",
      "|9c4d40f0a3a94274a...| 5/31/18 14:10|18e68df17e114ae2b...|      load|      Nigeria|Brand E|\n",
      "|ba8e6f68718c42a5a...|  5/3/18 12:56|                null|      logs|        India|Brand D|\n",
      "|f3c997ef07c34c07a...| 5/22/18 20:16|99a36b4c320b4a8eb...|      load|      Nigeria|Brand A|\n",
      "|a3c2436098a04dc18...|   4/7/18 5:25|                null|      logs|        India|Brand D|\n",
      "+--------------------+--------------+--------------------+----------+-------------+-------+\n",
      "only showing top 20 rows\n",
      "\n"
     ]
    }
   ],
   "source": [
    "df.show()\n",
    "\n",
    "# Observations:\n",
    "# 1. For event_type of logs, ad_id is null.\n",
    "# 2."
   ],
   "metadata": {
    "collapsed": false,
    "pycharm": {
     "name": "#%%\n"
    }
   }
  },
  {
   "cell_type": "code",
   "execution_count": 219,
   "outputs": [
    {
     "name": "stdout",
     "output_type": "stream",
     "text": [
      "root\n",
      " |-- device_id: string (nullable = true)\n",
      " |-- server_time: string (nullable = true)\n",
      " |-- ad_id: string (nullable = true)\n",
      " |-- event_type: string (nullable = true)\n",
      " |-- country: string (nullable = true)\n",
      " |-- brand: string (nullable = true)\n",
      "\n"
     ]
    }
   ],
   "source": [
    "df.printSchema()\n",
    "\n",
    "# Note: We need to convert server_time to timestamp data format."
   ],
   "metadata": {
    "collapsed": false,
    "pycharm": {
     "name": "#%%\n"
    }
   }
  },
  {
   "cell_type": "markdown",
   "source": [
    "- [X] Check number of samples and columns\n",
    "- [X] Check for null values\n",
    "- [X] Check data type\n",
    "- [X] Check for duplicates\n",
    "- [X] Convert server_time to timestamp\n",
    "- [ ] Build a PySpark pipeline"
   ],
   "metadata": {
    "collapsed": false,
    "pycharm": {
     "name": "#%% md\n"
    }
   }
  },
  {
   "cell_type": "code",
   "execution_count": 232,
   "outputs": [
    {
     "name": "stdout",
     "output_type": "stream",
     "text": [
      "Total number of rows: 387134\n"
     ]
    },
    {
     "data": {
      "text/plain": "                          device_id     server_time  \\\n0  c8d146ad02124a3e8d90ffe80f7fe0fb    2/19/18 2:05   \n1  7a8ff5a545534e1090a89b6778252ed4   6/26/18 10:06   \n2  4dc957af76404c54bc591719e27ad648  12/21/18 21:12   \n3  bb97056dfb3e449ab089246e56193c28   1/31/18 10:58   \n4  995f6a50742644f7b4c7c4ee51134801   5/29/18 21:02   \n\n                              ad_id event_type  country    brand  \n0                              None       logs  Nigeria  Brand E  \n1  c67ef34fb59e47df9fd7cbbbaebc382f       load  Nigeria  Brand D  \n2                              None       logs    India  Brand D  \n3                              None       logs    India  Brand D  \n4                              None       logs  Nigeria  Brand A  ",
      "text/html": "<div>\n<style scoped>\n    .dataframe tbody tr th:only-of-type {\n        vertical-align: middle;\n    }\n\n    .dataframe tbody tr th {\n        vertical-align: top;\n    }\n\n    .dataframe thead th {\n        text-align: right;\n    }\n</style>\n<table border=\"1\" class=\"dataframe\">\n  <thead>\n    <tr style=\"text-align: right;\">\n      <th></th>\n      <th>device_id</th>\n      <th>server_time</th>\n      <th>ad_id</th>\n      <th>event_type</th>\n      <th>country</th>\n      <th>brand</th>\n    </tr>\n  </thead>\n  <tbody>\n    <tr>\n      <th>0</th>\n      <td>c8d146ad02124a3e8d90ffe80f7fe0fb</td>\n      <td>2/19/18 2:05</td>\n      <td>None</td>\n      <td>logs</td>\n      <td>Nigeria</td>\n      <td>Brand E</td>\n    </tr>\n    <tr>\n      <th>1</th>\n      <td>7a8ff5a545534e1090a89b6778252ed4</td>\n      <td>6/26/18 10:06</td>\n      <td>c67ef34fb59e47df9fd7cbbbaebc382f</td>\n      <td>load</td>\n      <td>Nigeria</td>\n      <td>Brand D</td>\n    </tr>\n    <tr>\n      <th>2</th>\n      <td>4dc957af76404c54bc591719e27ad648</td>\n      <td>12/21/18 21:12</td>\n      <td>None</td>\n      <td>logs</td>\n      <td>India</td>\n      <td>Brand D</td>\n    </tr>\n    <tr>\n      <th>3</th>\n      <td>bb97056dfb3e449ab089246e56193c28</td>\n      <td>1/31/18 10:58</td>\n      <td>None</td>\n      <td>logs</td>\n      <td>India</td>\n      <td>Brand D</td>\n    </tr>\n    <tr>\n      <th>4</th>\n      <td>995f6a50742644f7b4c7c4ee51134801</td>\n      <td>5/29/18 21:02</td>\n      <td>None</td>\n      <td>logs</td>\n      <td>Nigeria</td>\n      <td>Brand A</td>\n    </tr>\n  </tbody>\n</table>\n</div>"
     },
     "execution_count": 232,
     "metadata": {},
     "output_type": "execute_result"
    }
   ],
   "source": [
    "print(f\"Total number of rows: {df.count()}\")\n",
    "df.limit(5).toPandas()"
   ],
   "metadata": {
    "collapsed": false,
    "pycharm": {
     "name": "#%%\n"
    }
   }
  },
  {
   "cell_type": "code",
   "execution_count": 233,
   "outputs": [
    {
     "name": "stderr",
     "output_type": "stream",
     "text": [
      "                                                                                \r"
     ]
    },
    {
     "name": "stdout",
     "output_type": "stream",
     "text": [
      "+---------+-----------+------+----------+-------+-----+\n",
      "|device_id|server_time| ad_id|event_type|country|brand|\n",
      "+---------+-----------+------+----------+-------+-----+\n",
      "|        0|          0|186104|         0|      0|    0|\n",
      "+---------+-----------+------+----------+-------+-----+\n",
      "\n"
     ]
    },
    {
     "name": "stderr",
     "output_type": "stream",
     "text": [
      "[Stage 613:=======>                                                 (1 + 7) / 8]\r"
     ]
    },
    {
     "name": "stdout",
     "output_type": "stream",
     "text": [
      "+---------+-----------+------+----------+-------+-----+\n",
      "|device_id|server_time| ad_id|event_type|country|brand|\n",
      "+---------+-----------+------+----------+-------+-----+\n",
      "|        0|          0|186104|         0|      0|    0|\n",
      "+---------+-----------+------+----------+-------+-----+\n",
      "\n"
     ]
    },
    {
     "name": "stderr",
     "output_type": "stream",
     "text": [
      "                                                                                \r"
     ]
    }
   ],
   "source": [
    "# Check how many NULL values in each column\n",
    "def check_for_nan(df, subset=None):\n",
    "    if subset:\n",
    "        df = df.select(subset)\n",
    "    for column in df.columns:\n",
    "        df = df.withColumn(column, df['`{}`'.format(column)].cast('string'))\n",
    "    nan_df = df.select([count(when(col(c).contains('None') | \\\n",
    "                                col(c).contains('NULL') |\n",
    "                                col(c).contains('NaN') |\n",
    "                                (col(c) == '' ) | \\\n",
    "                                col(c).isNull() | \\\n",
    "                                isnan(c), c\n",
    "                               )).alias(c)\n",
    "                        for c in df.columns])\n",
    "    return nan_df\n",
    "\n",
    "nan_df = check_for_nan(df)\n",
    "nan_df.show()\n",
    "\n",
    "# There are NaN values only in ad_id column and they must be there\n",
    "# because of event_type of logs. This is because event_type logs doesn't\n",
    "# have any ad_id associated with it because it is written by system\n",
    "# automatically.\n",
    "\n",
    "df_without_logs = df.filter(df.event_type != \"logs\")\n",
    "nan_df_without_logs = check_for_nan(df_without_logs)\n",
    "nan_df.show()\n",
    "# Yes, our intuition was correct. ad_id is NaN only when the event_type\n",
    "# is logs."
   ],
   "metadata": {
    "collapsed": false,
    "pycharm": {
     "name": "#%%\n"
    }
   }
  },
  {
   "cell_type": "code",
   "execution_count": 234,
   "outputs": [
    {
     "name": "stderr",
     "output_type": "stream",
     "text": [
      "[Stage 616:=======>                                                 (1 + 7) / 8]\r"
     ]
    },
    {
     "name": "stdout",
     "output_type": "stream",
     "text": [
      "Distinct count: 387130; Total count: 387134\n"
     ]
    },
    {
     "name": "stderr",
     "output_type": "stream",
     "text": [
      "                                                                                \r"
     ]
    }
   ],
   "source": [
    "# Checking for duplicates\n",
    "def remove_duplicates(df):\n",
    "    distinct_df = df.distinct()\n",
    "    print(f\"Distinct count: {str(distinct_df.count())}; Total count: {str(df.count())}\")\n",
    "    return distinct_df\n",
    "\n",
    "# There are 4 rows which are duplicates. We can simply drop those rows.\n",
    "df = remove_duplicates(df)"
   ],
   "metadata": {
    "collapsed": false,
    "pycharm": {
     "name": "#%%\n"
    }
   }
  },
  {
   "cell_type": "code",
   "execution_count": 235,
   "outputs": [],
   "source": [
    "# Convert server_time from type string to timestamp\n",
    "from pyspark.sql.functions import to_timestamp\n",
    "def convert_timestamp(df, timestamp_column, replace_original=True):\n",
    "    df_with_timestamp = df.withColumn('timestamp', to_timestamp(timestamp_column, \"M/d/yy H:mm\"))\n",
    "    if replace_original:\n",
    "        df_with_timestamp = df_with_timestamp.drop(timestamp_column)\n",
    "        df_with_timestamp = df_with_timestamp.withColumnRenamed('timestamp', timestamp_column)\n",
    "    return df_with_timestamp"
   ],
   "metadata": {
    "collapsed": false,
    "pycharm": {
     "name": "#%%\n"
    }
   }
  },
  {
   "cell_type": "code",
   "execution_count": 236,
   "outputs": [
    {
     "name": "stderr",
     "output_type": "stream",
     "text": [
      "                                                                                \r"
     ]
    },
    {
     "name": "stdout",
     "output_type": "stream",
     "text": [
      "+--------------------+--------------------+----------+-------------+-------+-------------------+\n",
      "|           device_id|               ad_id|event_type|      country|  brand|        server_time|\n",
      "+--------------------+--------------------+----------+-------------+-------+-------------------+\n",
      "|991c614ed150437b8...|                null|      logs|        India|Brand E|2018-12-17 01:43:00|\n",
      "|644b2ec426874ff88...|                null|      logs|        China|Brand C|2018-01-21 03:58:00|\n",
      "|c4e6aeb750c24143a...|0e22a9be59d74e82b...|   display|      Nigeria|Brand A|2018-06-03 05:31:00|\n",
      "|0cafc7e4fddc4ef7b...|68a47cbc12ed45639...|     close|        India|Brand D|2018-11-26 19:14:00|\n",
      "|121298cc8a0a4dfc8...|                null|      logs|        India|Brand A|2018-10-06 17:20:00|\n",
      "|ee7c74ba49e64689b...|11a177ea68ba416fa...|      load|United States|Brand D|2018-11-28 13:47:00|\n",
      "|34d46dc6466e4a4db...|                null|      logs|      Nigeria|Brand A|2018-04-02 14:51:00|\n",
      "|249d305027ac4102a...|                null|      logs|        India|Brand E|2018-09-10 22:50:00|\n",
      "|7d6635e50152429ba...|                null|      logs|United States|Brand B|2018-07-29 20:22:00|\n",
      "|44ce12157ebc4a4fa...|bf2a3958098e43418...|     close|      Nigeria|Brand E|2018-10-16 12:26:00|\n",
      "|5cad595d02a4487da...|                null|      logs|      Nigeria|Brand A|2018-07-21 20:33:00|\n",
      "|b031d5136bf745469...|c2458da301bd41b79...|     close|        India|Brand E|2018-12-16 19:07:00|\n",
      "|a8812aeb373747dca...|                null|      logs|United States|Brand A|2018-03-27 06:32:00|\n",
      "|ca12cc1e9a504e269...|                null|      logs|      Nigeria|Brand A|2018-11-27 20:51:00|\n",
      "|3b191436ec7740e1a...|a41fdb8e701d41b39...|     close|        India|Brand E|2018-09-18 03:46:00|\n",
      "|8a5bfb41d01a47528...|d60c8b58d65c49cba...|   display|        India|Brand D|2018-05-20 04:31:00|\n",
      "|7c677e837f3d4cfc8...|282e37a7b2fe410cb...|   display|        India|Brand A|2018-03-16 02:32:00|\n",
      "|0fc5f1e7c2bd4f47b...|19ab9e28fe1a46deb...|     close|        India|Brand E|2018-07-31 07:19:00|\n",
      "|3af63b56b0fc43af8...|                null|      logs|United States|Brand E|2018-05-04 18:15:00|\n",
      "|15b25478183e4d20b...|                null|      logs|      Nigeria|Brand B|2018-05-21 19:38:00|\n",
      "+--------------------+--------------------+----------+-------------+-------+-------------------+\n",
      "only showing top 20 rows\n",
      "\n"
     ]
    },
    {
     "name": "stderr",
     "output_type": "stream",
     "text": [
      "[Stage 630:>                                                        (0 + 8) / 8]\r"
     ]
    },
    {
     "name": "stdout",
     "output_type": "stream",
     "text": [
      "+---------+------+----------+-------+-----+-----------+\n",
      "|device_id| ad_id|event_type|country|brand|server_time|\n",
      "+---------+------+----------+-------+-----+-----------+\n",
      "|        0|186100|         0|      0|    0|          0|\n",
      "+---------+------+----------+-------+-----+-----------+\n",
      "\n"
     ]
    },
    {
     "name": "stderr",
     "output_type": "stream",
     "text": [
      "                                                                                \r"
     ]
    }
   ],
   "source": [
    "df = convert_timestamp(df, 'server_time')\n",
    "df.show()\n",
    "\n",
    "# Checking if conversion took place successfully\n",
    "check_for_nan(df).show()"
   ],
   "metadata": {
    "collapsed": false,
    "pycharm": {
     "name": "#%%\n"
    }
   }
  },
  {
   "cell_type": "code",
   "execution_count": 172,
   "outputs": [
    {
     "name": "stdout",
     "output_type": "stream",
     "text": [
      "+---------+-----------+-----+----------+-------+-----+---------+\n",
      "|device_id|server_time|ad_id|event_type|country|brand|timestamp|\n",
      "+---------+-----------+-----+----------+-------+-----+---------+\n",
      "+---------+-----------+-----+----------+-------+-----+---------+\n",
      "\n"
     ]
    }
   ],
   "source": [
    "# df.where(col('timestamp').isNull()).show()\n"
   ],
   "metadata": {
    "collapsed": false,
    "pycharm": {
     "name": "#%%\n"
    }
   }
  },
  {
   "cell_type": "code",
   "execution_count": 237,
   "outputs": [
    {
     "name": "stderr",
     "output_type": "stream",
     "text": [
      "                                                                                \r"
     ]
    },
    {
     "name": "stdout",
     "output_type": "stream",
     "text": [
      "+--------------------+--------------------+----------+-------------+-------+----+-----+---+----------+----------+\n",
      "|           device_id|               ad_id|event_type|      country|  brand|year|month|day|      date|year-month|\n",
      "+--------------------+--------------------+----------+-------------+-------+----+-----+---+----------+----------+\n",
      "|991c614ed150437b8...|                null|      logs|        India|Brand E|2018|   12| 17|2018-12-17|   2018-12|\n",
      "|644b2ec426874ff88...|                null|      logs|        China|Brand C|2018|    1| 21|2018-01-21|   2018-01|\n",
      "|c4e6aeb750c24143a...|0e22a9be59d74e82b...|   display|      Nigeria|Brand A|2018|    6|  3|2018-06-03|   2018-06|\n",
      "|0cafc7e4fddc4ef7b...|68a47cbc12ed45639...|     close|        India|Brand D|2018|   11| 26|2018-11-26|   2018-11|\n",
      "|121298cc8a0a4dfc8...|                null|      logs|        India|Brand A|2018|   10|  6|2018-10-06|   2018-10|\n",
      "|ee7c74ba49e64689b...|11a177ea68ba416fa...|      load|United States|Brand D|2018|   11| 28|2018-11-28|   2018-11|\n",
      "|34d46dc6466e4a4db...|                null|      logs|      Nigeria|Brand A|2018|    4|  2|2018-04-02|   2018-04|\n",
      "|249d305027ac4102a...|                null|      logs|        India|Brand E|2018|    9| 10|2018-09-10|   2018-09|\n",
      "|7d6635e50152429ba...|                null|      logs|United States|Brand B|2018|    7| 29|2018-07-29|   2018-07|\n",
      "|44ce12157ebc4a4fa...|bf2a3958098e43418...|     close|      Nigeria|Brand E|2018|   10| 16|2018-10-16|   2018-10|\n",
      "|5cad595d02a4487da...|                null|      logs|      Nigeria|Brand A|2018|    7| 21|2018-07-21|   2018-07|\n",
      "|b031d5136bf745469...|c2458da301bd41b79...|     close|        India|Brand E|2018|   12| 16|2018-12-16|   2018-12|\n",
      "|a8812aeb373747dca...|                null|      logs|United States|Brand A|2018|    3| 27|2018-03-27|   2018-03|\n",
      "|ca12cc1e9a504e269...|                null|      logs|      Nigeria|Brand A|2018|   11| 27|2018-11-27|   2018-11|\n",
      "|3b191436ec7740e1a...|a41fdb8e701d41b39...|     close|        India|Brand E|2018|    9| 18|2018-09-18|   2018-09|\n",
      "|8a5bfb41d01a47528...|d60c8b58d65c49cba...|   display|        India|Brand D|2018|    5| 20|2018-05-20|   2018-05|\n",
      "|7c677e837f3d4cfc8...|282e37a7b2fe410cb...|   display|        India|Brand A|2018|    3| 16|2018-03-16|   2018-03|\n",
      "|0fc5f1e7c2bd4f47b...|19ab9e28fe1a46deb...|     close|        India|Brand E|2018|    7| 31|2018-07-31|   2018-07|\n",
      "|3af63b56b0fc43af8...|                null|      logs|United States|Brand E|2018|    5|  4|2018-05-04|   2018-05|\n",
      "|15b25478183e4d20b...|                null|      logs|      Nigeria|Brand B|2018|    5| 21|2018-05-21|   2018-05|\n",
      "+--------------------+--------------------+----------+-------------+-------+----+-----+---+----------+----------+\n",
      "only showing top 20 rows\n",
      "\n"
     ]
    }
   ],
   "source": [
    "# Since, we are only interested in monthly and daily statistics, hence\n",
    "# we can drop the entire timestamp, keeping just the dates.\n",
    "\n",
    "def break_timestamp_into_year_month_date(df, timestamp_column):\n",
    "    temp_df = df.withColumn('year', F.year(timestamp_column))\n",
    "    temp_df = temp_df.withColumn('month', F.month(timestamp_column))\n",
    "    temp_df = temp_df.withColumn('day', F.dayofmonth(timestamp_column))\n",
    "    temp_df = temp_df.withColumn('date', F.to_date(timestamp_column))\n",
    "    temp_df = temp_df.withColumn('year-month', F.date_format(timestamp_column, \"yyyy-MM\"))\n",
    "    return temp_df\n",
    "\n",
    "df = break_timestamp_into_year_month_date(df, 'server_time')\n",
    "df = df.drop('server_time')\n",
    "df.show()\n"
   ],
   "metadata": {
    "collapsed": false,
    "pycharm": {
     "name": "#%%\n"
    }
   }
  },
  {
   "cell_type": "code",
   "execution_count": 242,
   "outputs": [
    {
     "name": "stderr",
     "output_type": "stream",
     "text": [
      "[Stage 651:=======>                                                 (1 + 7) / 8]\r"
     ]
    },
    {
     "name": "stdout",
     "output_type": "stream",
     "text": [
      "+----------+------+\n",
      "|event_type| count|\n",
      "+----------+------+\n",
      "|   display| 67068|\n",
      "|      load| 74388|\n",
      "|     close| 52236|\n",
      "|      logs|186100|\n",
      "|     click|  7338|\n",
      "+----------+------+\n",
      "\n"
     ]
    },
    {
     "name": "stderr",
     "output_type": "stream",
     "text": [
      "                                                                                \r"
     ]
    }
   ],
   "source": [
    "# Check number of event_type for each event\n",
    "df.groupBy('event_type').count().show()\n",
    "\n",
    "# There are 5 types of events:\n",
    "# System event: logs\n",
    "# User related events: display, load, click, close\n",
    "\n",
    "# Out of 4 user related system, only 2 of them are action driven\n",
    "# User action driven events: click, close\n",
    "\n",
    "# Hence, we'll only use 2 events -- click, close -- to figure out\n",
    "# if a particular user actually interacted with the ad or not."
   ],
   "metadata": {
    "collapsed": false,
    "pycharm": {
     "name": "#%%\n"
    }
   }
  },
  {
   "cell_type": "code",
   "execution_count": 238,
   "outputs": [],
   "source": [
    "interactive_events = ['click', 'close']\n",
    "df = df.withColumn(\"interaction\", F.when(df.event_type.isin(interactive_events), 1).otherwise(0))\n"
   ],
   "metadata": {
    "collapsed": false,
    "pycharm": {
     "name": "#%%\n"
    }
   }
  },
  {
   "cell_type": "code",
   "execution_count": 241,
   "outputs": [
    {
     "name": "stderr",
     "output_type": "stream",
     "text": [
      "[Stage 648:==========================================>              (6 + 2) / 8]\r"
     ]
    },
    {
     "name": "stdout",
     "output_type": "stream",
     "text": [
      "+--------------------+--------------------+----------+-------------+-------+----+-----+---+----------+----------+-----------+\n",
      "|           device_id|               ad_id|event_type|      country|  brand|year|month|day|      date|year-month|interaction|\n",
      "+--------------------+--------------------+----------+-------------+-------+----+-----+---+----------+----------+-----------+\n",
      "|991c614ed150437b8...|                null|      logs|        India|Brand E|2018|   12| 17|2018-12-17|   2018-12|          0|\n",
      "|644b2ec426874ff88...|                null|      logs|        China|Brand C|2018|    1| 21|2018-01-21|   2018-01|          0|\n",
      "|c4e6aeb750c24143a...|0e22a9be59d74e82b...|   display|      Nigeria|Brand A|2018|    6|  3|2018-06-03|   2018-06|          0|\n",
      "|0cafc7e4fddc4ef7b...|68a47cbc12ed45639...|     close|        India|Brand D|2018|   11| 26|2018-11-26|   2018-11|          1|\n",
      "|121298cc8a0a4dfc8...|                null|      logs|        India|Brand A|2018|   10|  6|2018-10-06|   2018-10|          0|\n",
      "|ee7c74ba49e64689b...|11a177ea68ba416fa...|      load|United States|Brand D|2018|   11| 28|2018-11-28|   2018-11|          0|\n",
      "|34d46dc6466e4a4db...|                null|      logs|      Nigeria|Brand A|2018|    4|  2|2018-04-02|   2018-04|          0|\n",
      "|249d305027ac4102a...|                null|      logs|        India|Brand E|2018|    9| 10|2018-09-10|   2018-09|          0|\n",
      "|7d6635e50152429ba...|                null|      logs|United States|Brand B|2018|    7| 29|2018-07-29|   2018-07|          0|\n",
      "|44ce12157ebc4a4fa...|bf2a3958098e43418...|     close|      Nigeria|Brand E|2018|   10| 16|2018-10-16|   2018-10|          1|\n",
      "|5cad595d02a4487da...|                null|      logs|      Nigeria|Brand A|2018|    7| 21|2018-07-21|   2018-07|          0|\n",
      "|b031d5136bf745469...|c2458da301bd41b79...|     close|        India|Brand E|2018|   12| 16|2018-12-16|   2018-12|          1|\n",
      "|a8812aeb373747dca...|                null|      logs|United States|Brand A|2018|    3| 27|2018-03-27|   2018-03|          0|\n",
      "|ca12cc1e9a504e269...|                null|      logs|      Nigeria|Brand A|2018|   11| 27|2018-11-27|   2018-11|          0|\n",
      "|3b191436ec7740e1a...|a41fdb8e701d41b39...|     close|        India|Brand E|2018|    9| 18|2018-09-18|   2018-09|          1|\n",
      "|8a5bfb41d01a47528...|d60c8b58d65c49cba...|   display|        India|Brand D|2018|    5| 20|2018-05-20|   2018-05|          0|\n",
      "|7c677e837f3d4cfc8...|282e37a7b2fe410cb...|   display|        India|Brand A|2018|    3| 16|2018-03-16|   2018-03|          0|\n",
      "|0fc5f1e7c2bd4f47b...|19ab9e28fe1a46deb...|     close|        India|Brand E|2018|    7| 31|2018-07-31|   2018-07|          1|\n",
      "|3af63b56b0fc43af8...|                null|      logs|United States|Brand E|2018|    5|  4|2018-05-04|   2018-05|          0|\n",
      "|15b25478183e4d20b...|                null|      logs|      Nigeria|Brand B|2018|    5| 21|2018-05-21|   2018-05|          0|\n",
      "+--------------------+--------------------+----------+-------------+-------+----+-----+---+----------+----------+-----------+\n",
      "only showing top 20 rows\n",
      "\n"
     ]
    },
    {
     "name": "stderr",
     "output_type": "stream",
     "text": [
      "                                                                                \r"
     ]
    }
   ],
   "source": [
    "df.show()"
   ],
   "metadata": {
    "collapsed": false,
    "pycharm": {
     "name": "#%%\n"
    }
   }
  },
  {
   "cell_type": "markdown",
   "source": [
    "- [ ] Which ad is displayed to most number of people?\n",
    "- [ ] Which ad has the highest CTR?\n",
    "\n",
    "- [ ] Which brand is most famous?"
   ],
   "metadata": {
    "collapsed": false,
    "pycharm": {
     "name": "#%% md\n"
    }
   }
  },
  {
   "cell_type": "code",
   "execution_count": 239,
   "outputs": [
    {
     "name": "stderr",
     "output_type": "stream",
     "text": [
      "[Stage 637:=======>                                                 (1 + 7) / 8]\r"
     ]
    },
    {
     "name": "stdout",
     "output_type": "stream",
     "text": [
      "+--------------------+----------+----+-----+-------------+----------------+\n",
      "|           device_id|year-month|year|month|      country|max(interaction)|\n",
      "+--------------------+----------+----+-----+-------------+----------------+\n",
      "|001186a3f903493ab...|   2018-01|2018|    1|United States|               0|\n",
      "|00136c179d2e4d13a...|   2018-01|2018|    1|      Nigeria|               0|\n",
      "|00199e866dab478b9...|   2018-01|2018|    1|        India|               0|\n",
      "|00284be7ffb24ddc9...|   2018-01|2018|    1|      Nigeria|               0|\n",
      "|003dfc17f325418d8...|   2018-01|2018|    1|        India|               0|\n",
      "|00438fd08fc543e29...|   2018-01|2018|    1|        India|               0|\n",
      "|004ae23dcc2147528...|   2018-01|2018|    1|        India|               0|\n",
      "|004c18ee4b6c4a15a...|   2018-01|2018|    1|United States|               0|\n",
      "|007c2f93731d4c7fb...|   2018-01|2018|    1|        India|               0|\n",
      "|00823a8a7b6f4c37a...|   2018-01|2018|    1|        India|               0|\n",
      "|009d7b1d8fa84224b...|   2018-01|2018|    1|        India|               0|\n",
      "|00aa5efe87584c518...|   2018-01|2018|    1|        India|               0|\n",
      "|00abdb51b56d4b4db...|   2018-01|2018|    1|        India|               0|\n",
      "|00ccd58c8af94bccb...|   2018-01|2018|    1|United States|               0|\n",
      "|00d7ea164f4040adb...|   2018-01|2018|    1|      Nigeria|               0|\n",
      "|00df5aa1f4f649208...|   2018-01|2018|    1|        India|               0|\n",
      "|00e4f7126dd744fa9...|   2018-01|2018|    1|        India|               0|\n",
      "|00e5878f92ca420c8...|   2018-01|2018|    1|      Nigeria|               1|\n",
      "|00eb2f6a5449430ab...|   2018-01|2018|    1|      Nigeria|               0|\n",
      "|00f62d88338343409...|   2018-01|2018|    1|      Nigeria|               0|\n",
      "+--------------------+----------+----+-----+-------------+----------------+\n",
      "only showing top 20 rows\n",
      "\n"
     ]
    },
    {
     "name": "stderr",
     "output_type": "stream",
     "text": [
      "                                                                                \r"
     ]
    }
   ],
   "source": [
    "def get_monthly_active_users(df):\n",
    "    monthly_metric = df.groupBy(['device_id', 'year-month', 'year', 'month', 'country']).max('interaction')\n",
    "    monthly_metric = monthly_metric.sort([\"year-month\", \"device_id\", \"country\"], ascending=[1, 1])\n",
    "    monthly_metric.withColumnRenamed(\"max(interaction)\", \"active_status\")\n",
    "    return monthly_metric\n",
    "\n",
    "monthly_active_users_df = get_monthly_active_users(df)\n",
    "monthly_active_users_df.show()"
   ],
   "metadata": {
    "collapsed": false,
    "pycharm": {
     "name": "#%%\n"
    }
   }
  },
  {
   "cell_type": "code",
   "execution_count": 240,
   "outputs": [
    {
     "name": "stderr",
     "output_type": "stream",
     "text": [
      "                                                                                \r"
     ]
    }
   ],
   "source": [
    "filepath = \"./data/monthly_active_users\"\n",
    "monthly_active_users_df.coalesce(1).write.options(header='True').csv(filepath)"
   ],
   "metadata": {
    "collapsed": false,
    "pycharm": {
     "name": "#%%\n"
    }
   }
  },
  {
   "cell_type": "code",
   "execution_count": 227,
   "outputs": [],
   "source": [
    "# Did a device interact on a particular date?\n",
    "interactions_df = df.groupBy(['device_id', 'date', 'year', 'month', 'day', 'country']).max('interaction')\n",
    "interactions_df = interactions_df.sort([\"year\", \"month\", \"day\", \"device_id\"], ascending=[1, 1, 1, 1])\n",
    "interactions_df.show()"
   ],
   "metadata": {
    "collapsed": false,
    "pycharm": {
     "name": "#%%\n"
    }
   }
  },
  {
   "cell_type": "code",
   "execution_count": 230,
   "outputs": [
    {
     "name": "stderr",
     "output_type": "stream",
     "text": [
      "                                                                                \r"
     ]
    }
   ],
   "source": [
    "filepath = \"./data/processed_ad_stream\"\n",
    "interactions_df.coalesce(1).write.options(header='True').csv(filepath)\n"
   ],
   "metadata": {
    "collapsed": false,
    "pycharm": {
     "name": "#%%\n"
    }
   }
  },
  {
   "cell_type": "code",
   "execution_count": 191,
   "outputs": [
    {
     "name": "stderr",
     "output_type": "stream",
     "text": [
      "                                                                                \r"
     ]
    },
    {
     "data": {
      "text/plain": "[Row(device_id='fffdd8551e52474d886285426eb71732', year=2018, month=12, day=31, country='China', max(interaction)=0)]"
     },
     "execution_count": 191,
     "metadata": {},
     "output_type": "execute_result"
    }
   ],
   "source": [
    "interactions_df.tail(1)\n"
   ],
   "metadata": {
    "collapsed": false,
    "pycharm": {
     "name": "#%%\n"
    }
   }
  },
  {
   "cell_type": "code",
   "execution_count": null,
   "outputs": [],
   "source": [],
   "metadata": {
    "collapsed": false,
    "pycharm": {
     "name": "#%%\n"
    }
   }
  }
 ],
 "metadata": {
  "kernelspec": {
   "name": "python3",
   "language": "python",
   "display_name": "Python 3 (ipykernel)"
  },
  "language_info": {
   "codemirror_mode": {
    "name": "ipython",
    "version": 3
   },
   "file_extension": ".py",
   "mimetype": "text/x-python",
   "name": "python",
   "nbconvert_exporter": "python",
   "pygments_lexer": "ipython3",
   "version": "3.8.12"
  }
 },
 "nbformat": 4,
 "nbformat_minor": 1
}